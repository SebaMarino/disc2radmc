{
 "cells": [
  {
   "cell_type": "markdown",
   "metadata": {},
   "source": [
    "# Make a dust continuum image and SED\n",
    "In this tutorial you will see how to use disc2radmc to create all the input files that radmc3d needs to run and how to run radmc3d to produce dust images and a spectral energy distribution (SED)."
   ]
  },
  {
   "cell_type": "code",
   "execution_count": 1,
   "metadata": {},
   "outputs": [],
   "source": [
    "import numpy as np\n",
    "import disc2radmc \n",
    "import matplotlib.pyplot as plt\n",
    "import astropy.io.fits as pyfits"
   ]
  },
  {
   "cell_type": "markdown",
   "metadata": {},
   "source": [
    "We start by defining what the surface density of dust will be. This is defined as a function that receives the cylindrical `r` and `phi` as the first arguments, followed by any argument that defines the surface density. This doesn't need to be normalized as that will be done internally for each dust species. This function must be able to receive ndarray's for r and phi. \n",
    "\n",
    "Below an example of a surface density that is a Gaussian radially, but varies azimuthally as sin(phi)"
   ]
  },
  {
   "cell_type": "code",
   "execution_count": 2,
   "metadata": {},
   "outputs": [],
   "source": [
    "def Sigma_dust(r, phi, rc, sigr, phi0):\n",
    "    \n",
    "    return np.exp( -0.5 * ((r-rc)/sigr)**2.)*(1.+np.sin(phi-phi0))"
   ]
  },
  {
   "cell_type": "markdown",
   "metadata": {},
   "source": [
    "We now define the parameters that will define our model. Note that many of these parameters don't need to be defined and they will be set to default values. However, it is better to know how to change these if your model is more complicated."
   ]
  },
  {
   "cell_type": "code",
   "execution_count": 3,
   "metadata": {},
   "outputs": [],
   "source": [
    "########################\n",
    "###### PARAMETERS ######\n",
    "########################\n",
    "\n",
    "## STAR\n",
    "Rstar=1.0 # [Solar radii]\n",
    "Tstar= -5800 # [K] If this is negative, the code will consider the star as a blackbody. For a realistic stellar model, you can download bt-settl models and indicate their directory later\n",
    "dir_stellar_templates='/Users/Sebamarino/Astronomy/Stellar_templates/BT-Settl/bt-settl/'\n",
    "dpc=50.  # [pc] distance to source \n",
    "target='my_favourite_disc'# name\n",
    "\n",
    "## DUST\n",
    "Mdust=0.5      # [Mearth] Total dust mass\n",
    "rc=100.        # [au]\n",
    "sigr=20.       # [au]\n",
    "phi0=np.pi/2. # [rad]\n",
    "amin=1.0       # [mu]  minimum grain size (1 by default)\n",
    "amax=1.0e4     # [mu]  maximum grain size (1e4 by default)\n",
    "N_species=1    #  (1 by default) Number of dust size bins to use for the radiative transfer calculations. \n",
    "slope = -3.5   #  (-3.5 by default) Slope of the size distribution. This is used for computing opacities and for the mass distribution of each size bin\n",
    "h=0.05         # vertical aspect ratio =H/r, where H is the vertical standard deviation. This is a constant, but other parametrizations are possible and will be shown below. \n",
    "par_sigma=(rc, sigr, phi0) # list containing the parameters that define the dust surface density. They must be in the same order as in the definition of Sigma_dust\n",
    "\n",
    "## MODEL SPATIAL GRID\n",
    "rmin=1. # [au] make sure it is small enough to sample the surface density\n",
    "rmax=300.# [au] \n",
    "Nr=100    # radial cells (linearly or logspaced)\n",
    "Nphi=100 # azimuthal cells\n",
    "Nth=10   # polar angle cells\n",
    "thmax=np.arctan(h)*5 # maximum polar angle to sample as measured from the midplane.\n",
    "axisym=False # Consider the disc to be axisymmetric to speed up calculations? it can overwrite Nphi if True and set it to 1\n",
    "mirror=True  # Mirror the upper half to speed up calculations. This is incompatible with anisotropic scattering.\n",
    "logr=True # Sample r logarithmically or linearly\n",
    "\n",
    "# WAVELENGTH GRID (grid to sample the stellar flux in temperature calculations, see radmc3d manual)\n",
    "lammin=0.09  # [mu]  minimum wavelength to consider in our model (important for temperature calculation)\n",
    "lammax=1.0e5 # [mu] minimum wavelength to consider in our model (important for temperature calculation)\n",
    "Nlam=150     # number of cells logarithmically spaced to sample the wavelength range.\n",
    "\n",
    "# IMAGE PARAMETERS\n",
    "Npix=512  # number of pixels\n",
    "dpix=0.02 # pixel size in arcsec\n",
    "inc=45.    # inclination\n",
    "PA=90.    # position angle\n",
    "\n",
    "wavelength=880. # [um] image wavelength\n",
    "scattering_mode=1 # scattering mode (0=no scattering, 1=isotropic, 2=anisotropic using H&G function)\n",
    "\n"
   ]
  },
  {
   "cell_type": "markdown",
   "metadata": {},
   "source": [
    "Our model will be made of multiple objects that we need to define and save for radmc3d: \n",
    "- Spatial grid\n",
    "- Wavelength grid\n",
    "- Star\n",
    "- Dust"
   ]
  },
  {
   "cell_type": "code",
   "execution_count": 4,
   "metadata": {},
   "outputs": [],
   "source": [
    "### PHYSICAL GRID\n",
    "gridmodel=disc2radmc.model.physical_grid(rmin=rmin, rmax=rmax, Nr=Nr, Nphi=Nphi, Nth=Nth, thmax=thmax, mirror=mirror, logr=logr, axisym=axisym)\n",
    "gridmodel.save()\n",
    "\n",
    "### WAVELENGTH GRID\n",
    "lammodel=disc2radmc.model.wavelength_grid(lammin=lammin, lammax=lammax, Nlam=Nlam)\n",
    "lammodel.save()\n",
    "\n",
    "### STAR\n",
    "starmodel=disc2radmc.model.star(lammodel, Tstar=Tstar, Rstar=Rstar,\n",
    "                               #dir_stellar_templates=dir_stellar_templates # necessary if Tstar>0\n",
    "                               )\n",
    "starmodel.save()\n"
   ]
  },
  {
   "cell_type": "markdown",
   "metadata": {},
   "source": [
    "For the dust, we will mix the optical constants of three species (astrosilicates, amorphous carbon and water ice) using the Bruggeman rule."
   ]
  },
  {
   "cell_type": "code",
   "execution_count": 5,
   "metadata": {},
   "outputs": [
    {
     "name": "stdout",
     "output_type": "stream",
     "text": [
      "Compute average optical constants\n",
      "final density = 2.7 g/cm3\n"
     ]
    }
   ],
   "source": [
    "### DUST SIZE DISTRIBUTION AND OPACITY\n",
    "# path to optical constants that can be found in https://github.com/SebaMarino/disc2radmc/tree/main/opacities/dust_optical_constants\n",
    "path_opct='/Users/Sebamarino/Astronomy/Codes/disc2radmc/opacities/dust_optical_constants/' \n",
    "lnk_files=[path_opct+'astrosilicate_ext.lnk',\n",
    "           path_opct+'ac_opct.lnk',\n",
    "           path_opct+'ice_opct.lnk']\n",
    "densities=[4., 3., 1.] # densities in g/cm3\n",
    "mass_weights=[70.0, 15., 15.] # mixing ratios by mass\n",
    "dust=disc2radmc.model.dust(lammodel,\n",
    "                           Mdust=Mdust,\n",
    "                           lnk_file=lnk_files,\n",
    "                           densities=densities,\n",
    "                           N_species=N_species,\n",
    "                           slope=slope,\n",
    "                           N_per_bin=100, # number of species per size bin to have a good representation \n",
    "                           mass_weights=mass_weights,\n",
    "                           tag='mix', # name to give to this new mixed species\n",
    "                           compute_opct=True) "
   ]
  },
  {
   "cell_type": "markdown",
   "metadata": {},
   "source": [
    "Now we will compute the opacity using the Mie theory by Craig F. Bohren and Donald R. Huffman. You need to download it from http://scatterlib.wdfiles.com/local--files/codes/bhmie-f.zip, unzip, compile using with `make` from your terminal, and copy the file `makeopac` to your working directory. Then you can compute the opacities as `dust.compute_opacities()` which will produce one or a set of files containing the opacities of the N_species dust species. This might take a while, so you probably want to comment that line after computing your final opacities."
   ]
  },
  {
   "cell_type": "code",
   "execution_count": 6,
   "metadata": {},
   "outputs": [],
   "source": [
    "dust.compute_opacities()"
   ]
  },
  {
   "cell_type": "markdown",
   "metadata": {},
   "source": [
    "We now define our dust densities in each cell of the spatial grid and save this for radm3d."
   ]
  },
  {
   "cell_type": "code",
   "execution_count": 7,
   "metadata": {},
   "outputs": [],
   "source": [
    "### DUST DENSITY DISTRIBUTION\n",
    "dust.dust_densities(grid=gridmodel,function_sigma=Sigma_dust, par_sigma=par_sigma, h=h)\n",
    "dust.write_density()"
   ]
  },
  {
   "cell_type": "markdown",
   "metadata": {},
   "source": [
    "# Now, let's run radmc3d\n",
    "We start by specifying some parameters for RADMC3D. We proceed computing the temperature with the thermal montecarlo simulation. Then we will compute an image, and finally an SED."
   ]
  },
  {
   "cell_type": "code",
   "execution_count": 8,
   "metadata": {},
   "outputs": [],
   "source": [
    "sim=disc2radmc.model.simulation(nphot=10000000, # number of photon packages for thermal monte carlo\n",
    "                                nphot_scat=1000000, # number of photon packages for image\n",
    "                                nphot_spec=10000,   # number of photon packages for spectrum\n",
    "                                nphot_mono=10000,   # number of photon packages for the monochromatic monte carlo\n",
    "                                scattering_mode=scattering_mode, \n",
    "                                incl_lines=0, # whether to include gas lines (1) or not (0)\n",
    "                                modified_random_walk=0, # for very optically thick medium, this is a useful approximation\n",
    "                                istar_sphere=0, # consider the star a sphere or a point.\n",
    "                                tgas_eq_tdust=1, # gas temperature equal to the temperature of the first dust species\n",
    "                                setthreads=4,\n",
    "                                verbose=True, \n",
    "                               )\n",
    "\n",
    "### RUN MCTHERM to compute temperature\n",
    "sim.mctherm()"
   ]
  },
  {
   "cell_type": "code",
   "execution_count": 9,
   "metadata": {},
   "outputs": [
    {
     "data": {
      "image/png": "[encoded data removed]",
      "text/plain": [
       "<Figure size 432x288 with 2 Axes>"
      ]
     },
     "metadata": {
      "needs_background": "light"
     },
     "output_type": "display_data"
    }
   ],
   "source": [
    "# check temperature\n",
    "Ts=np.fromfile('./dust_temperature.bdat', count=gridmodel.Nr*gridmodel.Nphi*gridmodel.Nth+4, dtype=float)[4:].reshape( (gridmodel.Nphi, gridmodel.Nth, gridmodel.Nr))\n",
    "plt.pcolormesh(gridmodel.redge, gridmodel.thedge, Ts[0,:,:])\n",
    "plt.xlabel('Radius [Rsun]')\n",
    "plt.xscale('log')\n",
    "plt.ylabel(r'Polar angle [rad]')\n",
    "plt.colorbar(label='Temperature [K]')\n",
    "plt.show()"
   ]
  },
  {
   "cell_type": "markdown",
   "metadata": {},
   "source": [
    "# Let's make some images"
   ]
  },
  {
   "cell_type": "code",
   "execution_count": 10,
   "metadata": {},
   "outputs": [
    {
     "name": "stdout",
     "output_type": "stream",
     "text": [
      "image size = 5.1e+02 au\n",
      "radmc3d image incl 45.00000  phi  0.00000 posang 0.00000  npix 512  lambda 880.00000 sizeau 512.00000  secondorder\n"
     ]
    }
   ],
   "source": [
    "### MAKE IMAGE\n",
    "sim.simimage(dpc=dpc, \n",
    "             imagename='test1', \n",
    "             wavelength=wavelength,\n",
    "             Npix=Npix,\n",
    "             dpix=dpix,\n",
    "             inc=inc,\n",
    "             PA=PA,\n",
    "             tag=target)\n",
    "\n",
    "#             background_args=[bg1, bg2, bg3])"
   ]
  },
  {
   "cell_type": "markdown",
   "metadata": {},
   "source": [
    "Let's plot the image that is now saved at ./images/image_test1_my_favourite_disc.fits"
   ]
  },
  {
   "cell_type": "code",
   "execution_count": 11,
   "metadata": {},
   "outputs": [
    {
     "name": "stdout",
     "output_type": "stream",
     "text": [
      "Total flux = 22.895 mJy\n"
     ]
    },
    {
     "data": {
      "image/png": "[encoded data removed]",
      "text/plain": [
       "<Figure size 432x432 with 1 Axes>"
      ]
     },
     "metadata": {
      "needs_background": "light"
     },
     "output_type": "display_data"
    }
   ],
   "source": [
    "fit1=pyfits.open('./images/image_test1_my_favourite_disc.fits')\n",
    "image=fit1[0].data[0,0,:,:]\n",
    "print('Total flux = %1.3f mJy'%(np.sum(image)*1.0e3))\n",
    "fig=plt.figure(figsize=(6,6))\n",
    "ax1=fig.add_subplot(111)\n",
    "ax1.pcolormesh(image)\n",
    "ax1.set_aspect('equal')"
   ]
  },
  {
   "cell_type": "markdown",
   "metadata": {},
   "source": [
    "There are other functionalities that might result useful.\n",
    "\n",
    "For example, you can pad the image and increase its size. This can be useful when your source is small but you still need a large image, for example, to compute its visibilities. In this case, you can specify the size of your final image with Npixf as shown below."
   ]
  },
  {
   "cell_type": "code",
   "execution_count": 12,
   "metadata": {},
   "outputs": [
    {
     "name": "stdout",
     "output_type": "stream",
     "text": [
      "image size = 5.1e+02 au\n",
      "radmc3d image incl 45.00000  phi  0.00000 posang 0.00000  npix 512  lambda 880.00000 sizeau 512.00000  secondorder\n"
     ]
    }
   ],
   "source": [
    "Npixf=1024\n",
    "sim.simimage(dpc=dpc, \n",
    "            imagename='test2', \n",
    "            wavelength=wavelength,\n",
    "            Npix=Npix,\n",
    "            Npixf=Npixf,\n",
    "            dpix=dpix,\n",
    "            inc=inc,\n",
    "            PA=PA,\n",
    "            tag=target,\n",
    "            )\n",
    "\n",
    "#background_args=[bg1, bg2, bg3]"
   ]
  },
  {
   "cell_type": "code",
   "execution_count": 13,
   "metadata": {},
   "outputs": [
    {
     "data": {
      "image/png": "[encoded data removed]",
      "text/plain": [
       "<Figure size 432x432 with 1 Axes>"
      ]
     },
     "metadata": {
      "needs_background": "light"
     },
     "output_type": "display_data"
    }
   ],
   "source": [
    "fit1=pyfits.open('./images/image_test2_my_favourite_disc.fits')\n",
    "image=fit1[0].data[0,0,:,:]\n",
    "\n",
    "fig=plt.figure(figsize=(6,6))\n",
    "ax1=fig.add_subplot(111)\n",
    "ax1.pcolormesh(image)\n",
    "ax1.set_aspect('equal')"
   ]
  },
  {
   "cell_type": "markdown",
   "metadata": {},
   "source": [
    "You can also take this image and scale it to another wavelength using a spectral index of 2 for the central star, and a uniform  spectral index for the dust. This is faster than computing the image again and allows to fit alpha_dust instead of varying the dust size distribution/opacity parameters."
   ]
  },
  {
   "cell_type": "code",
   "execution_count": 14,
   "metadata": {},
   "outputs": [],
   "source": [
    "alpha_dust=2.5 # dust spectral index\n",
    "new_wavelength=1300. # [um] wavelength of new image \n",
    "path_image='image_test2_'+target+'.out' # path to image previously computed by radmc3d\n",
    "path_fits='images/image_test2_alpha_'+target+'.fits' # name of new fits image that will be created\n",
    "\n",
    "disc2radmc.model.convert_to_fits(path_image,\n",
    "                                 path_fits,\n",
    "                                 Npixf,\n",
    "                                 dpc,\n",
    "                                 tag=target,\n",
    "                                 alpha_dust=alpha_dust,\n",
    "                                 new_lambda=new_wavelength)\n"
   ]
  },
  {
   "cell_type": "markdown",
   "metadata": {},
   "source": [
    "You can also specify the flux of the central star, and add other sources in the image defined as elliptical Gaussians."
   ]
  },
  {
   "cell_type": "code",
   "execution_count": 15,
   "metadata": {},
   "outputs": [
    {
     "name": "stdout",
     "output_type": "stream",
     "text": [
      "image size = 5.1e+02 au\n",
      "radmc3d image incl 45.00000  phi  0.00000 posang 0.00000  npix 512  lambda 880.00000 sizeau 512.00000  secondorder\n"
     ]
    }
   ],
   "source": [
    "fstar=0.0 # if <1 it does not change the stellar flux\n",
    "\n",
    "# Let's add three background objects. They are specify as arrays with the following parameters\n",
    "# [number of image pixels, pixel size, flux_jy, ra_offset_arcsec, dec_offset_arcsec, major_std_arcsec, minor_std_arcsec, PA)\n",
    "bg1=[Npixf, dpix, 5.0e-3, -8., 8., 1., 0.5, 45.] # \n",
    "bg2=[Npixf, dpix, 5.0e-3, 4., -4., 1., 0.5, 45.]\n",
    "bg3=[Npixf, dpix, 5.0e-3, -2., 2., 1., 0.5, 45.]\n",
    "\n",
    "sim.simimage(dpc=dpc, \n",
    "            imagename='test3', \n",
    "            wavelength=wavelength,\n",
    "            Npix=Npix,\n",
    "            Npixf=Npixf,\n",
    "            dpix=dpix,\n",
    "            inc=inc,\n",
    "            PA=PA,\n",
    "            tag=target,\n",
    "            background_args=[bg1, bg2, bg3],\n",
    "            fstar=fstar)"
   ]
  },
  {
   "cell_type": "code",
   "execution_count": 16,
   "metadata": {},
   "outputs": [
    {
     "data": {
      "image/png": "[encoded data removed]",
      "text/plain": [
       "<Figure size 432x432 with 1 Axes>"
      ]
     },
     "metadata": {
      "needs_background": "light"
     },
     "output_type": "display_data"
    }
   ],
   "source": [
    "fit1=pyfits.open('./images/image_test3_my_favourite_disc.fits')\n",
    "image=fit1[0].data[0,0,:,:]\n",
    "\n",
    "fig=plt.figure(figsize=(6,6))\n",
    "ax1=fig.add_subplot(111)\n",
    "ax1.pcolormesh(image)\n",
    "ax1.set_aspect('equal')"
   ]
  },
  {
   "cell_type": "markdown",
   "metadata": {},
   "source": [
    "Finally, you can define more exotic vertical distributions. First let's change the aspect ratio $h$ as a function of $r$ such that\n",
    "$$ H(r) = h r_0 (r/r_0)^{\\gamma}$$\n",
    "We will also make the disc wider, axisymmetric and more inclined to see the effect"
   ]
  },
  {
   "cell_type": "code",
   "execution_count": 17,
   "metadata": {},
   "outputs": [],
   "source": [
    "def Sigma_dust(r, phi, rc, sigr):\n",
    "    return np.exp( -0.5 * ((r-rc)/sigr)**2.)\n",
    "\n",
    "# radial parameters\n",
    "rc=100.\n",
    "sigr=50.\n",
    "par_sigma=(rc, sigr)\n",
    "\n",
    "# vertical parameters\n",
    "h=0.1\n",
    "r0=rc # reference radius\n",
    "gamma=3.\n",
    "\n",
    "dust.dust_densities(grid=gridmodel,function_sigma=Sigma_dust, par_sigma=par_sigma,\n",
    "                    h=h,\n",
    "                    r0=r0,\n",
    "                    gamma=gamma)\n",
    "dust.write_density()\n"
   ]
  },
  {
   "cell_type": "code",
   "execution_count": 18,
   "metadata": {},
   "outputs": [
    {
     "name": "stdout",
     "output_type": "stream",
     "text": [
      "image size = 5.1e+02 au\n",
      "radmc3d image incl 90.00000  phi  0.00000 posang 0.00000  npix 512  lambda 880.00000 sizeau 512.00000  secondorder\n"
     ]
    },
    {
     "data": {
      "image/png": "[encoded data removed]",
      "text/plain": [
       "<Figure size 432x432 with 1 Axes>"
      ]
     },
     "metadata": {
      "needs_background": "light"
     },
     "output_type": "display_data"
    }
   ],
   "source": [
    "### MAKE IMAGE\n",
    "sim.simimage(dpc=dpc, \n",
    "             imagename='test4', \n",
    "             wavelength=wavelength,\n",
    "             Npix=Npix,\n",
    "             dpix=dpix,\n",
    "             inc=90.,\n",
    "             PA=PA,\n",
    "             tag=target,\n",
    "             fstar=0.)\n",
    "\n",
    "fit1=pyfits.open('./images/image_test4_my_favourite_disc.fits')\n",
    "image=fit1[0].data[0,0,:,:]\n",
    "\n",
    "fig=plt.figure(figsize=(6,6))\n",
    "ax1=fig.add_subplot(111)\n",
    "ax1.pcolormesh(image)\n",
    "ax1.set_aspect('equal')"
   ]
  },
  {
   "cell_type": "markdown",
   "metadata": {},
   "source": [
    "We can even define functions for the vertical distribution that are different from a Gaussian, as long as they are correctly normalized and can be defined as a function of z and H. Note that in this case H is simply a reference height and it can be a constant or vary with r by changing `gamma`. The vertical distribution function (called `rho_exotic` below), needs to be in units of 1/au.\n"
   ]
  },
  {
   "cell_type": "code",
   "execution_count": 19,
   "metadata": {},
   "outputs": [],
   "source": [
    "def rhoz_exotic(z, H):\n",
    "    return 0.5*( np.exp(-(z-2*H)**2.0/(2.0*H**2.0))/(np.sqrt(2.0*np.pi)*H)+np.exp(-(z+2*H)**2.0/(2.0*H**2.0))/(np.sqrt(2.0*np.pi)*H) )\n",
    "def Sigma_dust(r, phi, rc, sigr):\n",
    "    return np.exp( -0.5 * ((r-rc)/sigr)**2.)\n",
    "\n",
    "# radial parameters\n",
    "rc=100.\n",
    "sigr=50.\n",
    "par_sigma=(rc, sigr)\n",
    "\n",
    "# vertical parameters\n",
    "h=0.05\n",
    "r0=rc # reference radius\n",
    "gamma=1.\n",
    "\n",
    "dust.dust_densities(grid=gridmodel,function_sigma=Sigma_dust, par_sigma=par_sigma,\n",
    "                    h=h,\n",
    "                    r0=r0,\n",
    "                    gamma=gamma,\n",
    "                    functions_rhoz=[rhoz_exotic],\n",
    "                   )\n",
    "dust.write_density()"
   ]
  },
  {
   "cell_type": "code",
   "execution_count": 20,
   "metadata": {},
   "outputs": [
    {
     "name": "stdout",
     "output_type": "stream",
     "text": [
      "image size = 5.1e+02 au\n",
      "radmc3d image incl 90.00000  phi  0.00000 posang 0.00000  npix 512  lambda 880.00000 sizeau 512.00000  secondorder\n"
     ]
    },
    {
     "data": {
      "image/png": "[encoded data removed]",
      "text/plain": [
       "<Figure size 432x432 with 1 Axes>"
      ]
     },
     "metadata": {
      "needs_background": "light"
     },
     "output_type": "display_data"
    }
   ],
   "source": [
    "### MAKE IMAGE\n",
    "sim.simimage(dpc=dpc, \n",
    "             imagename='test5', \n",
    "             wavelength=wavelength,\n",
    "             Npix=Npix,\n",
    "             dpix=dpix,\n",
    "             inc=90.,\n",
    "             PA=PA,\n",
    "             tag=target,\n",
    "             fstar=0.)\n",
    "\n",
    "fit1=pyfits.open('./images/image_test5_my_favourite_disc.fits')\n",
    "image=fit1[0].data[0,0,:,:]\n",
    "\n",
    "fig=plt.figure(figsize=(6,6))\n",
    "ax1=fig.add_subplot(111)\n",
    "ax1.pcolormesh(image)\n",
    "ax1.set_aspect('equal')"
   ]
  },
  {
   "cell_type": "markdown",
   "metadata": {},
   "source": [
    "# Let's make an SED"
   ]
  },
  {
   "cell_type": "code",
   "execution_count": 22,
   "metadata": {},
   "outputs": [
    {
     "data": {
      "image/png": "[encoded data removed]",
      "text/plain": [
       "<Figure size 432x288 with 1 Axes>"
      ]
     },
     "metadata": {
      "needs_background": "light"
     },
     "output_type": "display_data"
    }
   ],
   "source": [
    "### make sed\n",
    "wavelengths=np.logspace(-1,4, 100)  # um\n",
    "sed=sim.simsed(wavelengths=wavelengths, dpc=dpc, inc=inc)\n",
    "\n",
    "## plot sed\n",
    "plt.plot(sed[:,0], sed[:,1])\n",
    "plt.xscale('log')\n",
    "plt.yscale('log')\n",
    "plt.show()\n"
   ]
  },
  {
   "cell_type": "code",
   "execution_count": null,
   "metadata": {},
   "outputs": [],
   "source": []
  }
 ],
 "metadata": {
  "kernelspec": {
   "display_name": "Python 3",
   "language": "python",
   "name": "python3"
  },
  "language_info": {
   "codemirror_mode": {
    "name": "ipython",
    "version": 3
   },
   "file_extension": ".py",
   "mimetype": "text/x-python",
   "name": "python",
   "nbconvert_exporter": "python",
   "pygments_lexer": "ipython3",
   "version": "3.7.6"
  }
 },
 "nbformat": 4,
 "nbformat_minor": 4
}
